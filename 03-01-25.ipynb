{
 "cells": [
  {
   "cell_type": "markdown",
   "id": "19dc17bc-71aa-4db0-bffa-8d262b0175bb",
   "metadata": {},
   "source": [
    "### ADDITION +\n",
    "### SUBTRACTION -\n",
    "### MULTIPLICATION *\n",
    "### DIVISION /\n",
    "### REMAINDER %\n",
    "### POWER **\n",
    "### FLOOR DIVISION //"
   ]
  },
  {
   "cell_type": "code",
   "execution_count": 26,
   "id": "e218dc1e-c70c-493b-a616-2492e2a269e8",
   "metadata": {},
   "outputs": [
    {
     "data": {
      "text/plain": [
       "8"
      ]
     },
     "execution_count": 26,
     "metadata": {},
     "output_type": "execute_result"
    }
   ],
   "source": [
    "a=5\n",
    "b=3\n",
    "c=a+b\n",
    "c"
   ]
  },
  {
   "cell_type": "code",
   "execution_count": 28,
   "id": "50ee4ef7-00ac-491b-a671-9ae4ac076283",
   "metadata": {},
   "outputs": [
    {
     "data": {
      "text/plain": [
       "int"
      ]
     },
     "execution_count": 28,
     "metadata": {},
     "output_type": "execute_result"
    }
   ],
   "source": [
    "type(c)"
   ]
  },
  {
   "cell_type": "code",
   "execution_count": 30,
   "id": "599e1da9-87ea-4bf3-a9f2-7babb9130572",
   "metadata": {},
   "outputs": [
    {
     "data": {
      "text/plain": [
       "2"
      ]
     },
     "execution_count": 30,
     "metadata": {},
     "output_type": "execute_result"
    }
   ],
   "source": [
    "d=a-b\n",
    "d"
   ]
  },
  {
   "cell_type": "code",
   "execution_count": 32,
   "id": "25444837-1a7a-4f2a-816b-159b996732eb",
   "metadata": {},
   "outputs": [
    {
     "data": {
      "text/plain": [
       "int"
      ]
     },
     "execution_count": 32,
     "metadata": {},
     "output_type": "execute_result"
    }
   ],
   "source": [
    "type(d)"
   ]
  },
  {
   "cell_type": "code",
   "execution_count": 34,
   "id": "2a675c9d-923f-467d-a153-6ceaeb608f7c",
   "metadata": {},
   "outputs": [
    {
     "data": {
      "text/plain": [
       "15"
      ]
     },
     "execution_count": 34,
     "metadata": {},
     "output_type": "execute_result"
    }
   ],
   "source": [
    "e=a*b\n",
    "e"
   ]
  },
  {
   "cell_type": "code",
   "execution_count": 36,
   "id": "984f3810-8c4b-4e17-b191-3e5cccf00c35",
   "metadata": {},
   "outputs": [
    {
     "data": {
      "text/plain": [
       "1.6666666666666667"
      ]
     },
     "execution_count": 36,
     "metadata": {},
     "output_type": "execute_result"
    }
   ],
   "source": [
    "f=a/b\n",
    "f"
   ]
  },
  {
   "cell_type": "code",
   "execution_count": 38,
   "id": "383c0eeb-1da1-45f5-8b9e-3e8c76a6017b",
   "metadata": {},
   "outputs": [
    {
     "data": {
      "text/plain": [
       "float"
      ]
     },
     "execution_count": 38,
     "metadata": {},
     "output_type": "execute_result"
    }
   ],
   "source": [
    "type(f)"
   ]
  },
  {
   "cell_type": "code",
   "execution_count": 40,
   "id": "4f4dd7ab-1be1-458a-82bb-d01071fe6892",
   "metadata": {},
   "outputs": [
    {
     "data": {
      "text/plain": [
       "2"
      ]
     },
     "execution_count": 40,
     "metadata": {},
     "output_type": "execute_result"
    }
   ],
   "source": [
    "g=a%b\n",
    "g"
   ]
  },
  {
   "cell_type": "code",
   "execution_count": 42,
   "id": "32b941e5-b528-4a10-93e9-bf957ca37c5d",
   "metadata": {},
   "outputs": [
    {
     "data": {
      "text/plain": [
       "125"
      ]
     },
     "execution_count": 42,
     "metadata": {},
     "output_type": "execute_result"
    }
   ],
   "source": [
    "h=a**b\n",
    "h"
   ]
  },
  {
   "cell_type": "code",
   "execution_count": 44,
   "id": "6eb28adf-b6cd-4ac3-942f-e18229fcc55e",
   "metadata": {},
   "outputs": [
    {
     "data": {
      "text/plain": [
       "1"
      ]
     },
     "execution_count": 44,
     "metadata": {},
     "output_type": "execute_result"
    }
   ],
   "source": [
    "j=a//b\n",
    "j"
   ]
  },
  {
   "cell_type": "code",
   "execution_count": 46,
   "id": "fd9f8228-90e9-4ea2-bbc2-2f1a538715c2",
   "metadata": {},
   "outputs": [
    {
     "data": {
      "text/plain": [
       "int"
      ]
     },
     "execution_count": 46,
     "metadata": {},
     "output_type": "execute_result"
    }
   ],
   "source": [
    "type(j)"
   ]
  },
  {
   "cell_type": "markdown",
   "id": "0132cab1-8ae2-403a-bd32-72712b8130fd",
   "metadata": {},
   "source": [
    "## COMPARISION OPERATORS\n",
    "### <  >  <=  >=  ==  !="
   ]
  },
  {
   "cell_type": "code",
   "execution_count": 52,
   "id": "cee9e473-7bef-44b5-87ea-7fd0087621cc",
   "metadata": {},
   "outputs": [],
   "source": [
    "a=8\n",
    "b=5"
   ]
  },
  {
   "cell_type": "code",
   "execution_count": 56,
   "id": "0f9806d8-94cb-41b4-b656-f4e4bb1cc51b",
   "metadata": {},
   "outputs": [
    {
     "data": {
      "text/plain": [
       "False"
      ]
     },
     "execution_count": 56,
     "metadata": {},
     "output_type": "execute_result"
    }
   ],
   "source": [
    "a<b"
   ]
  },
  {
   "cell_type": "code",
   "execution_count": 54,
   "id": "fea65a3a-0ffb-40fe-b4ce-d8efd90b9cfe",
   "metadata": {},
   "outputs": [
    {
     "data": {
      "text/plain": [
       "True"
      ]
     },
     "execution_count": 54,
     "metadata": {},
     "output_type": "execute_result"
    }
   ],
   "source": [
    "a>b"
   ]
  },
  {
   "cell_type": "code",
   "execution_count": 58,
   "id": "11c0f5be-8870-42b1-b334-65d88fd57479",
   "metadata": {},
   "outputs": [
    {
     "data": {
      "text/plain": [
       "False"
      ]
     },
     "execution_count": 58,
     "metadata": {},
     "output_type": "execute_result"
    }
   ],
   "source": [
    "a<=b"
   ]
  },
  {
   "cell_type": "code",
   "execution_count": 60,
   "id": "137beb65-4dc5-4728-b412-5ebbb9ca9efe",
   "metadata": {},
   "outputs": [
    {
     "data": {
      "text/plain": [
       "True"
      ]
     },
     "execution_count": 60,
     "metadata": {},
     "output_type": "execute_result"
    }
   ],
   "source": [
    "a>=b"
   ]
  },
  {
   "cell_type": "code",
   "execution_count": 62,
   "id": "d7701ed7-f693-42cf-9bd3-7a1ab2fdf122",
   "metadata": {},
   "outputs": [
    {
     "data": {
      "text/plain": [
       "False"
      ]
     },
     "execution_count": 62,
     "metadata": {},
     "output_type": "execute_result"
    }
   ],
   "source": [
    "a==b"
   ]
  },
  {
   "cell_type": "code",
   "execution_count": 64,
   "id": "8124b532-8fc4-4725-a1ca-aa9845d14e93",
   "metadata": {},
   "outputs": [
    {
     "data": {
      "text/plain": [
       "True"
      ]
     },
     "execution_count": 64,
     "metadata": {},
     "output_type": "execute_result"
    }
   ],
   "source": [
    "a!=b"
   ]
  },
  {
   "cell_type": "code",
   "execution_count": 68,
   "id": "ffbef08e-4ab4-4cdf-8c06-9cb51a74f92e",
   "metadata": {},
   "outputs": [
    {
     "data": {
      "text/plain": [
       "bool"
      ]
     },
     "execution_count": 68,
     "metadata": {},
     "output_type": "execute_result"
    }
   ],
   "source": [
    "type(a!=b)"
   ]
  },
  {
   "cell_type": "markdown",
   "id": "45de51d9-aeec-409b-b1f7-70bd4f840b38",
   "metadata": {},
   "source": [
    "## LOGICAL OPERATORS\n",
    "\n",
    "### AND\n",
    "### OR\n",
    "### NOT"
   ]
  },
  {
   "cell_type": "code",
   "execution_count": null,
   "id": "20ac098d-0670-4edb-8556-0f2265ee1ff6",
   "metadata": {},
   "outputs": [],
   "source": [
    "a=30\n",
    "b=10\n"
   ]
  },
  {
   "cell_type": "code",
   "execution_count": 73,
   "id": "fc72e1de-273f-489b-9d53-60d9c2751521",
   "metadata": {},
   "outputs": [
    {
     "data": {
      "text/plain": [
       "True"
      ]
     },
     "execution_count": 73,
     "metadata": {},
     "output_type": "execute_result"
    }
   ],
   "source": [
    "(a > b)"
   ]
  },
  {
   "cell_type": "code",
   "execution_count": 75,
   "id": "fac9a459-4f45-4dd3-9c4d-597d8d96197b",
   "metadata": {},
   "outputs": [
    {
     "data": {
      "text/plain": [
       "False"
      ]
     },
     "execution_count": 75,
     "metadata": {},
     "output_type": "execute_result"
    }
   ],
   "source": [
    "(a > 40)"
   ]
  },
  {
   "cell_type": "code",
   "execution_count": 77,
   "id": "5dc41dca-a724-4c41-b17e-4b9e8259dbc3",
   "metadata": {},
   "outputs": [
    {
     "data": {
      "text/plain": [
       "False"
      ]
     },
     "execution_count": 77,
     "metadata": {},
     "output_type": "execute_result"
    }
   ],
   "source": [
    "(a>b) and (a>40)"
   ]
  },
  {
   "cell_type": "code",
   "execution_count": 79,
   "id": "64a63c77-1692-4e87-b0b2-d1efaae0d651",
   "metadata": {},
   "outputs": [
    {
     "data": {
      "text/plain": [
       "True"
      ]
     },
     "execution_count": 79,
     "metadata": {},
     "output_type": "execute_result"
    }
   ],
   "source": [
    "(a>b) or (a>40)"
   ]
  },
  {
   "cell_type": "code",
   "execution_count": null,
   "id": "e557bdaa-b5f2-42dd-bee0-af7e44840e15",
   "metadata": {},
   "outputs": [],
   "source": [
    "d"
   ]
  },
  {
   "cell_type": "code",
   "execution_count": 85,
   "id": "59596197-cffc-4364-a8eb-1683b25a3446",
   "metadata": {},
   "outputs": [
    {
     "data": {
      "text/plain": [
       "True"
      ]
     },
     "execution_count": 85,
     "metadata": {},
     "output_type": "execute_result"
    }
   ],
   "source": [
    "d<10"
   ]
  },
  {
   "cell_type": "code",
   "execution_count": 87,
   "id": "ea598523-b707-4dea-901b-874ee57d9e2e",
   "metadata": {},
   "outputs": [
    {
     "data": {
      "text/plain": [
       "False"
      ]
     },
     "execution_count": 87,
     "metadata": {},
     "output_type": "execute_result"
    }
   ],
   "source": [
    "d>100"
   ]
  },
  {
   "cell_type": "code",
   "execution_count": 109,
   "id": "04c8f8d5-b444-4274-a471-3d639ffd6825",
   "metadata": {},
   "outputs": [],
   "source": [
    "a=9.4"
   ]
  },
  {
   "cell_type": "code",
   "execution_count": 111,
   "id": "104b5962-52a2-4e8c-b587-39e7d7564389",
   "metadata": {},
   "outputs": [
    {
     "data": {
      "text/plain": [
       "True"
      ]
     },
     "execution_count": 111,
     "metadata": {},
     "output_type": "execute_result"
    }
   ],
   "source": [
    "a>=9.1 and a<=10 # A PLUS"
   ]
  },
  {
   "cell_type": "code",
   "execution_count": 121,
   "id": "cbe8723f-63fe-4542-b90b-2c24457511ed",
   "metadata": {},
   "outputs": [],
   "source": [
    "b=8.6"
   ]
  },
  {
   "cell_type": "code",
   "execution_count": 123,
   "id": "43795ca5-7b20-4847-98fb-be0e113c74fc",
   "metadata": {},
   "outputs": [
    {
     "data": {
      "text/plain": [
       "True"
      ]
     },
     "execution_count": 123,
     "metadata": {},
     "output_type": "execute_result"
    }
   ],
   "source": [
    "b>=8.1 and b<=9.0  # A GRADE"
   ]
  },
  {
   "cell_type": "code",
   "execution_count": 133,
   "id": "082bd5f2-35a3-4e94-bc8a-99155c1865bf",
   "metadata": {},
   "outputs": [],
   "source": [
    "c=7.84"
   ]
  },
  {
   "cell_type": "code",
   "execution_count": 135,
   "id": "0f08c23c-abfc-4aed-9982-c7a64f2c92e2",
   "metadata": {},
   "outputs": [
    {
     "data": {
      "text/plain": [
       "True"
      ]
     },
     "execution_count": 135,
     "metadata": {},
     "output_type": "execute_result"
    }
   ],
   "source": [
    "c>=7.1 and c<=8.0  # B PLUS"
   ]
  },
  {
   "cell_type": "code",
   "execution_count": 137,
   "id": "8dba5287-c434-435a-a4e7-f667548113ec",
   "metadata": {},
   "outputs": [],
   "source": [
    "d=6.36"
   ]
  },
  {
   "cell_type": "code",
   "execution_count": 139,
   "id": "e39825ea-2a60-4412-a019-e21359e4fe3b",
   "metadata": {},
   "outputs": [
    {
     "data": {
      "text/plain": [
       "True"
      ]
     },
     "execution_count": 139,
     "metadata": {},
     "output_type": "execute_result"
    }
   ],
   "source": [
    "d>=6.1 and d<=7.0  # B GRADE"
   ]
  },
  {
   "cell_type": "code",
   "execution_count": 143,
   "id": "0b0f61b0-f296-4785-818c-808ddbf81dab",
   "metadata": {},
   "outputs": [
    {
     "data": {
      "text/plain": [
       "'FAIL'"
      ]
     },
     "execution_count": 143,
     "metadata": {},
     "output_type": "execute_result"
    }
   ],
   "source": [
    "e=\"FAIL\"\n",
    "e"
   ]
  },
  {
   "cell_type": "code",
   "execution_count": null,
   "id": "86089a96-56fc-4f46-a309-898c580ada08",
   "metadata": {},
   "outputs": [],
   "source": []
  }
 ],
 "metadata": {
  "kernelspec": {
   "display_name": "Python [conda env:base] *",
   "language": "python",
   "name": "conda-base-py"
  },
  "language_info": {
   "codemirror_mode": {
    "name": "ipython",
    "version": 3
   },
   "file_extension": ".py",
   "mimetype": "text/x-python",
   "name": "python",
   "nbconvert_exporter": "python",
   "pygments_lexer": "ipython3",
   "version": "3.12.7"
  }
 },
 "nbformat": 4,
 "nbformat_minor": 5
}
