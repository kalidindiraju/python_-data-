{
 "cells": [
  {
   "cell_type": "code",
   "execution_count": 5,
   "id": "664af0bb-4803-42b7-b4e3-93c32a996556",
   "metadata": {},
   "outputs": [
    {
     "data": {
      "text/plain": [
       "{'A': 10, 'B': 20, 40: 100, 1: 'India'}"
      ]
     },
     "execution_count": 5,
     "metadata": {},
     "output_type": "execute_result"
    }
   ],
   "source": [
    "d={'A':10,\"B\":20,40:100,1:\"India\"}\n",
    "d"
   ]
  },
  {
   "cell_type": "code",
   "execution_count": 9,
   "id": "405389b1-0ab5-47e5-8be3-ba88f46bbe81",
   "metadata": {},
   "outputs": [
    {
     "data": {
      "text/plain": [
       "{'A': 100, 'B': 20, 40: 100, 1: 'India'}"
      ]
     },
     "execution_count": 9,
     "metadata": {},
     "output_type": "execute_result"
    }
   ],
   "source": [
    "d['A'] = 100\n",
    "d"
   ]
  },
  {
   "cell_type": "code",
   "execution_count": 11,
   "id": "860bd912-00f2-4605-8313-7a1e9f40d58b",
   "metadata": {},
   "outputs": [
    {
     "data": {
      "text/plain": [
       "{'A': 100, 'B': 20, 40: 100, 1: 'RAJU'}"
      ]
     },
     "execution_count": 11,
     "metadata": {},
     "output_type": "execute_result"
    }
   ],
   "source": [
    "d.update({1:'RAJU'})\n",
    "d"
   ]
  },
  {
   "cell_type": "code",
   "execution_count": 13,
   "id": "5a79b79e-b957-4553-9bd5-af91b08d0e23",
   "metadata": {},
   "outputs": [
    {
     "data": {
      "text/plain": [
       "'RAJU'"
      ]
     },
     "execution_count": 13,
     "metadata": {},
     "output_type": "execute_result"
    }
   ],
   "source": [
    "d.get(1)"
   ]
  },
  {
   "cell_type": "code",
   "execution_count": 19,
   "id": "d322398e-f07c-4170-a4b9-6e18c370c772",
   "metadata": {},
   "outputs": [
    {
     "data": {
      "text/plain": [
       "{'A': 100, 40: 100, 1: 'RAJU', 10: 1000}"
      ]
     },
     "execution_count": 19,
     "metadata": {},
     "output_type": "execute_result"
    }
   ],
   "source": [
    "d.update({10:1000})\n",
    "d"
   ]
  },
  {
   "cell_type": "code",
   "execution_count": 23,
   "id": "6814a563-49da-4a3d-a82f-53597ccd076d",
   "metadata": {},
   "outputs": [
    {
     "data": {
      "text/plain": [
       "{'A': 100, 40: 100, 1: 'RAJU'}"
      ]
     },
     "execution_count": 23,
     "metadata": {},
     "output_type": "execute_result"
    }
   ],
   "source": [
    "del d[10]\n",
    "d"
   ]
  },
  {
   "cell_type": "code",
   "execution_count": 25,
   "id": "ac28501c-baaa-4f68-8f9b-e2c2ba19c4b5",
   "metadata": {},
   "outputs": [
    {
     "data": {
      "text/plain": [
       "dict"
      ]
     },
     "execution_count": 25,
     "metadata": {},
     "output_type": "execute_result"
    }
   ],
   "source": [
    "type(d)"
   ]
  },
  {
   "cell_type": "code",
   "execution_count": 27,
   "id": "85d7c5d6-a56c-4b4c-8381-3453498cded2",
   "metadata": {},
   "outputs": [
    {
     "data": {
      "text/plain": [
       "{'A': 100, 40: 100, 1: 'RAJU', 80: [40, 50, 60, 70]}"
      ]
     },
     "execution_count": 27,
     "metadata": {},
     "output_type": "execute_result"
    }
   ],
   "source": [
    "d[80]=[40,50,60,70]\n",
    "d"
   ]
  },
  {
   "cell_type": "code",
   "execution_count": 29,
   "id": "86848242-6b8e-47b4-8df4-75813ad0fa0b",
   "metadata": {},
   "outputs": [
    {
     "data": {
      "text/plain": [
       "{'A': 100,\n",
       " 40: 100,\n",
       " 1: 'RAJU',\n",
       " 80: [40, 50, 60, 70],\n",
       " 101: [1000, 2000, 3000, 4000, 5000]}"
      ]
     },
     "execution_count": 29,
     "metadata": {},
     "output_type": "execute_result"
    }
   ],
   "source": [
    "d[101]=[1000,2000,3000,4000,5000]\n",
    "d"
   ]
  },
  {
   "cell_type": "code",
   "execution_count": 31,
   "id": "9f00d986-ae88-48e8-803a-0d8509c9da2d",
   "metadata": {},
   "outputs": [
    {
     "data": {
      "text/plain": [
       "list"
      ]
     },
     "execution_count": 31,
     "metadata": {},
     "output_type": "execute_result"
    }
   ],
   "source": [
    "type(d[101])"
   ]
  },
  {
   "cell_type": "code",
   "execution_count": 33,
   "id": "bfc4b9dd-bb07-4213-86a0-6d15ae0ba0bb",
   "metadata": {},
   "outputs": [
    {
     "data": {
      "text/plain": [
       "int"
      ]
     },
     "execution_count": 33,
     "metadata": {},
     "output_type": "execute_result"
    }
   ],
   "source": [
    "type(d['A'])"
   ]
  },
  {
   "cell_type": "code",
   "execution_count": 46,
   "id": "a097c2bc-469f-4615-a8da-1da09ed72baa",
   "metadata": {},
   "outputs": [
    {
     "data": {
      "text/plain": [
       "'raju'"
      ]
     },
     "execution_count": 46,
     "metadata": {},
     "output_type": "execute_result"
    }
   ],
   "source": [
    "d[1].lower()"
   ]
  },
  {
   "cell_type": "code",
   "execution_count": 62,
   "id": "3b95c3b7-6765-4ee5-ac03-c23219b18f09",
   "metadata": {},
   "outputs": [
    {
     "data": {
      "text/plain": [
       "{'A': 100,\n",
       " 40: 100,\n",
       " 1: 'RAJU',\n",
       " 80: [40, 50, 60, 70, 500],\n",
       " 101: [1000, 2000, 3000, 4000, 5000, 500, 500]}"
      ]
     },
     "execution_count": 62,
     "metadata": {},
     "output_type": "execute_result"
    }
   ],
   "source": [
    "d[80].append(500)\n",
    "d"
   ]
  },
  {
   "cell_type": "code",
   "execution_count": 52,
   "id": "e6d533ee-6f56-4949-8d8a-f044d1089d3f",
   "metadata": {},
   "outputs": [
    {
     "data": {
      "text/plain": [
       "['RAJU']"
      ]
     },
     "execution_count": 52,
     "metadata": {},
     "output_type": "execute_result"
    }
   ],
   "source": [
    "d[1].split()"
   ]
  },
  {
   "cell_type": "code",
   "execution_count": 64,
   "id": "6c7baaa0-d439-4ab9-9023-5c1888152761",
   "metadata": {},
   "outputs": [
    {
     "data": {
      "text/plain": [
       "[40, 50, 60, 70, 500]"
      ]
     },
     "execution_count": 64,
     "metadata": {},
     "output_type": "execute_result"
    }
   ],
   "source": [
    "d[80]"
   ]
  },
  {
   "cell_type": "code",
   "execution_count": 67,
   "id": "b1454cd0-7a77-4a1e-a3a0-de1634d3de16",
   "metadata": {},
   "outputs": [
    {
     "data": {
      "text/plain": [
       "{'A': 100,\n",
       " 40: 100,\n",
       " 1: 'RAJU',\n",
       " 80: [40, 10000, 50, 60, 70, 500],\n",
       " 101: [1000, 2000, 3000, 4000, 5000, 500, 500]}"
      ]
     },
     "execution_count": 67,
     "metadata": {},
     "output_type": "execute_result"
    }
   ],
   "source": [
    "d[80].insert(1,10000)\n",
    "d"
   ]
  },
  {
   "cell_type": "code",
   "execution_count": 69,
   "id": "95948000-6eb2-4076-a44a-64319561ad84",
   "metadata": {},
   "outputs": [
    {
     "data": {
      "text/plain": [
       "{'A': 100,\n",
       " 40: 100,\n",
       " 1: (2, 3, 4, 5, 6, 7),\n",
       " 80: [40, 10000, 50, 60, 70, 500],\n",
       " 101: [1000, 2000, 3000, 4000, 5000, 500, 500]}"
      ]
     },
     "execution_count": 69,
     "metadata": {},
     "output_type": "execute_result"
    }
   ],
   "source": [
    "d.update({1:(2,3,4,5,6,7)})\n",
    "d"
   ]
  },
  {
   "cell_type": "code",
   "execution_count": 71,
   "id": "6128a485-4a3a-4c83-bf34-ae8e64b8a83a",
   "metadata": {},
   "outputs": [
    {
     "data": {
      "text/plain": [
       "{'A': 100,\n",
       " 40: 100,\n",
       " 1: (2, 3, 4, 5, 6, 7),\n",
       " 80: [40, 10000, 50, 60, 70, 500],\n",
       " 101: [1000, 2000, 3000, 4000, 5000, 500, 500],\n",
       " 8: 'RAJU'}"
      ]
     },
     "execution_count": 71,
     "metadata": {},
     "output_type": "execute_result"
    }
   ],
   "source": [
    "d.update({8:'RAJU'})\n",
    "d"
   ]
  },
  {
   "cell_type": "code",
   "execution_count": 75,
   "id": "e4802ad0-6940-44d4-acbb-16893c04b91e",
   "metadata": {},
   "outputs": [
    {
     "data": {
      "text/plain": [
       "'raju'"
      ]
     },
     "execution_count": 75,
     "metadata": {},
     "output_type": "execute_result"
    }
   ],
   "source": [
    "d[8].lower()"
   ]
  },
  {
   "cell_type": "code",
   "execution_count": 77,
   "id": "48ec3fa4-5ff0-4a25-80db-f0bec7da304f",
   "metadata": {},
   "outputs": [
    {
     "data": {
      "text/plain": [
       "'RAJU'"
      ]
     },
     "execution_count": 77,
     "metadata": {},
     "output_type": "execute_result"
    }
   ],
   "source": [
    "d[8].upper()"
   ]
  },
  {
   "cell_type": "code",
   "execution_count": 79,
   "id": "526c1c47-1a5d-4cae-a5d1-920ec74eefc9",
   "metadata": {},
   "outputs": [
    {
     "data": {
      "text/plain": [
       "'RAJU'"
      ]
     },
     "execution_count": 79,
     "metadata": {},
     "output_type": "execute_result"
    }
   ],
   "source": [
    "d[8]"
   ]
  },
  {
   "cell_type": "code",
   "execution_count": 81,
   "id": "33867d86-2c29-4d23-aa7b-330c5f2ac810",
   "metadata": {},
   "outputs": [
    {
     "data": {
      "text/plain": [
       "{'A': 100,\n",
       " 40: 100,\n",
       " 1: (2, 3, 4, 5, 6, 7),\n",
       " 80: [40, 10000, 50, 60, 70, 500],\n",
       " 101: [1000, 2000, 3000, 4000, 5000, 500, 500],\n",
       " 8: 'RAJU'}"
      ]
     },
     "execution_count": 81,
     "metadata": {},
     "output_type": "execute_result"
    }
   ],
   "source": [
    "d"
   ]
  },
  {
   "cell_type": "code",
   "execution_count": 85,
   "id": "208a1697-df9d-4df5-8dc5-d507f3da1c4e",
   "metadata": {},
   "outputs": [
    {
     "data": {
      "text/plain": [
       "{'A': 100,\n",
       " 40: 100,\n",
       " 1: (2, 3, 4, 5, 6, 7),\n",
       " 80: [40, 10000, 50, 60, 70, 500],\n",
       " 101: [1000, 2000, 3000, 4000, 5000, 500, 500],\n",
       " 8: 'raju'}"
      ]
     },
     "execution_count": 85,
     "metadata": {},
     "output_type": "execute_result"
    }
   ],
   "source": [
    "d[8]=d[8].lower()\n",
    "d"
   ]
  },
  {
   "cell_type": "code",
   "execution_count": 87,
   "id": "d37e908b-8baf-4f95-82d8-a5e519e82fa8",
   "metadata": {},
   "outputs": [
    {
     "data": {
      "text/plain": [
       "{'A': 100,\n",
       " 40: 100,\n",
       " 1: (2, 3, 4, 5, 6, 7),\n",
       " 80: [40, 10000, 50, 60, 70, 500],\n",
       " 101: [1000, 2000, 3000, 4000, 5000, 500, 500],\n",
       " 8: 'RAJU'}"
      ]
     },
     "execution_count": 87,
     "metadata": {},
     "output_type": "execute_result"
    }
   ],
   "source": [
    "d[8]=d[8].upper()\n",
    "d"
   ]
  },
  {
   "cell_type": "code",
   "execution_count": 97,
   "id": "a852c1fa-bc59-45a6-9eec-105d5c1879c4",
   "metadata": {},
   "outputs": [
    {
     "data": {
      "text/plain": [
       "{'A': {50: [7, 8, 9, 10], 'apple': (20, 10, 70, [90, 180, 270])},\n",
       " 40: 100,\n",
       " 1: (2, 3, 4, 5, 6, 7),\n",
       " 80: [40, 10000, 50, 60, 70, 500],\n",
       " 101: {50: [7, 8, 9, 10], 'apple': (20, 10, 70, [90, 180, 270])},\n",
       " 8: 'RAJU'}"
      ]
     },
     "execution_count": 97,
     "metadata": {},
     "output_type": "execute_result"
    }
   ],
   "source": [
    "d['A']={50:[7,8,9,10],'apple':(20,10,70,[90,180,270])}\n",
    "d"
   ]
  },
  {
   "cell_type": "code",
   "execution_count": 99,
   "id": "8f266cf6-c905-453a-9ad4-86e7400f3e24",
   "metadata": {},
   "outputs": [
    {
     "data": {
      "text/plain": [
       "{'A': {50: [7, 8, 9, 10], 'apple': (20, 10, 70, [90, 180, 270])},\n",
       " 40: 600,\n",
       " 1: (2, 3, 4, 5, 6, 7),\n",
       " 80: [40, 10000, 50, 60, 70, 500],\n",
       " 101: {50: [7, 8, 9, 10], 'apple': (20, 10, 70, [90, 180, 270])},\n",
       " 8: 'RAJU'}"
      ]
     },
     "execution_count": 99,
     "metadata": {},
     "output_type": "execute_result"
    }
   ],
   "source": [
    "d[40]=600\n",
    "d"
   ]
  },
  {
   "cell_type": "code",
   "execution_count": 101,
   "id": "1a1bcbee-9990-40b5-936a-4cf5c8078395",
   "metadata": {},
   "outputs": [
    {
     "data": {
      "text/plain": [
       "{'A': {50: [7, 8, 9, 10], 'apple': (20, 10, 70, [90, 180, 270])},\n",
       " 40: 600,\n",
       " 1: (2, 3, 4, 5, 6, 7),\n",
       " 80: [40, 10000, 50, 60, 70, 500],\n",
       " 101: {50: [7, 8, 9, 10], 'apple': (20, 10, 70, [90, 180, 270])},\n",
       " 8: 'RAJU',\n",
       " 102: 600}"
      ]
     },
     "execution_count": 101,
     "metadata": {},
     "output_type": "execute_result"
    }
   ],
   "source": [
    "d.update({102:600})\n",
    "d"
   ]
  },
  {
   "cell_type": "code",
   "execution_count": 103,
   "id": "0b37828d-2e3c-417e-a136-42190668f56e",
   "metadata": {},
   "outputs": [
    {
     "data": {
      "text/plain": [
       "{'A': {50: [7, 8, 9, 10], 'apple': (20, 10, 70, [90, 180, 270])},\n",
       " 40: 600,\n",
       " 1: (2, 3, 4, 5, 6, 7),\n",
       " 80: [40, 10000, 50, 60, 70, 500],\n",
       " 101: {50: [7, 8, 9, 10], 'apple': (20, 10, 70, [90, 180, 270])},\n",
       " 102: 600}"
      ]
     },
     "execution_count": 103,
     "metadata": {},
     "output_type": "execute_result"
    }
   ],
   "source": [
    "del d[8]\n",
    "d"
   ]
  },
  {
   "cell_type": "code",
   "execution_count": 111,
   "id": "abadc28c-6f32-45f3-8e15-738df8774fdf",
   "metadata": {},
   "outputs": [
    {
     "data": {
      "text/plain": [
       "{101: {50: [7, 8, 9, 10], 'apple': (20, 10, 70, [90, 180, 270])}, 102: 600}"
      ]
     },
     "execution_count": 111,
     "metadata": {},
     "output_type": "execute_result"
    }
   ],
   "source": [
    "del d[80]\n",
    "d"
   ]
  },
  {
   "cell_type": "code",
   "execution_count": 113,
   "id": "19fdfacd-1303-431d-a659-a0cff6d9ae1f",
   "metadata": {},
   "outputs": [
    {
     "data": {
      "text/plain": [
       "{101: {50: [7, 8, 9, 10], 'apple': (20, 10, 70, [90, 180, 270])}, 102: 600}"
      ]
     },
     "execution_count": 113,
     "metadata": {},
     "output_type": "execute_result"
    }
   ],
   "source": [
    "d.update({102:600})\n",
    "d"
   ]
  },
  {
   "cell_type": "code",
   "execution_count": 115,
   "id": "96fb9394-aa5f-4ebc-bc86-2381d8957eb6",
   "metadata": {},
   "outputs": [
    {
     "data": {
      "text/plain": [
       "{101: {50: [7, 8, 9, 10], 'apple': (20, 10, 70, [90, 180, 270])},\n",
       " 102: 600,\n",
       " 103: (30, 40, 50, 60, 70)}"
      ]
     },
     "execution_count": 115,
     "metadata": {},
     "output_type": "execute_result"
    }
   ],
   "source": [
    "d.update({103:(30,40,50,60,70)})\n",
    "d"
   ]
  },
  {
   "cell_type": "code",
   "execution_count": 117,
   "id": "bb3470df-45a7-48bf-86a6-1542c25569a7",
   "metadata": {},
   "outputs": [
    {
     "data": {
      "text/plain": [
       "{101: {50: [7, 8, 9, 10], 'apple': (20, 10, 70, [90, 180, 270])},\n",
       " 102: 600,\n",
       " 103: (30, 40, 50, 60, 70),\n",
       " 106: 4000}"
      ]
     },
     "execution_count": 117,
     "metadata": {},
     "output_type": "execute_result"
    }
   ],
   "source": [
    "d.update({106:4000})\n",
    "d"
   ]
  },
  {
   "cell_type": "code",
   "execution_count": 119,
   "id": "07b3969d-b0f3-41ce-b449-ad7e0f715dcd",
   "metadata": {},
   "outputs": [
    {
     "data": {
      "text/plain": [
       "{101: {50: [7, 8, 9, 10], 'apple': (20, 10, 70, [90, 180, 270])},\n",
       " 102: 600,\n",
       " 103: (30, 40, 50, 60, 70),\n",
       " 106: 4000,\n",
       " 107: 'India'}"
      ]
     },
     "execution_count": 119,
     "metadata": {},
     "output_type": "execute_result"
    }
   ],
   "source": [
    "d.update({107:'India'})\n",
    "d"
   ]
  },
  {
   "cell_type": "code",
   "execution_count": 121,
   "id": "587342ca-e549-4a43-b903-d99b255a0b06",
   "metadata": {},
   "outputs": [
    {
     "data": {
      "text/plain": [
       "{101: {50: [7, 8, 9, 10], 'apple': (20, 10, 70, [90, 180, 270])},\n",
       " 102: 600,\n",
       " 103: (30, 40, 50, 60, 70),\n",
       " 106: 4000,\n",
       " 107: 'India',\n",
       " 104: [1000, 5000, 5500, 6000, 7000]}"
      ]
     },
     "execution_count": 121,
     "metadata": {},
     "output_type": "execute_result"
    }
   ],
   "source": [
    "d.update({104:[1000,5000,5500,6000,7000]})\n",
    "d"
   ]
  },
  {
   "cell_type": "code",
   "execution_count": 129,
   "id": "cb372117-fde1-4000-ae66-4c725ed93cb7",
   "metadata": {},
   "outputs": [
    {
     "data": {
      "text/plain": [
       "{101: {50: [7, 8, 9, 10], 'apple': (20, 10, 70, [90, 180, 270])},\n",
       " 102: 600,\n",
       " 103: (30, 40, 50, 60, 70),\n",
       " 106: 4000,\n",
       " 107: 'India',\n",
       " 104: [1000, 5000, 5500, 6000, 7000]}"
      ]
     },
     "execution_count": 129,
     "metadata": {},
     "output_type": "execute_result"
    }
   ],
   "source": [
    "d[101]:'apple'[2]\n",
    "d"
   ]
  },
  {
   "cell_type": "code",
   "execution_count": 143,
   "id": "86adcfed-ce38-44cf-a7a4-2c5ff9b6f8a0",
   "metadata": {},
   "outputs": [
    {
     "data": {
      "text/plain": [
       "180"
      ]
     },
     "execution_count": 143,
     "metadata": {},
     "output_type": "execute_result"
    }
   ],
   "source": [
    "d[101]['apple'][3][1]"
   ]
  },
  {
   "cell_type": "code",
   "execution_count": 145,
   "id": "bfd77b8b-6716-49df-8442-566aa6399606",
   "metadata": {},
   "outputs": [
    {
     "data": {
      "text/plain": [
       "50"
      ]
     },
     "execution_count": 145,
     "metadata": {},
     "output_type": "execute_result"
    }
   ],
   "source": [
    "d[103][2]"
   ]
  },
  {
   "cell_type": "code",
   "execution_count": null,
   "id": "4de2f948-04ba-459a-aac7-3d4b978a7bcb",
   "metadata": {},
   "outputs": [],
   "source": []
  },
  {
   "cell_type": "code",
   "execution_count": null,
   "id": "4f418310-4cdb-4c28-a5ae-11a3ab52724c",
   "metadata": {},
   "outputs": [],
   "source": []
  },
  {
   "cell_type": "code",
   "execution_count": null,
   "id": "3a866a8a-2da0-4e14-aafe-52017d7802e8",
   "metadata": {},
   "outputs": [],
   "source": []
  },
  {
   "cell_type": "code",
   "execution_count": null,
   "id": "c983e932-1474-412b-b884-c25613efbbd8",
   "metadata": {},
   "outputs": [],
   "source": []
  },
  {
   "cell_type": "code",
   "execution_count": null,
   "id": "8e1df310-f952-4ee7-a291-d7bf39b05a26",
   "metadata": {},
   "outputs": [],
   "source": []
  },
  {
   "cell_type": "code",
   "execution_count": null,
   "id": "e1212196-aca2-4e28-b268-d90f0373df72",
   "metadata": {},
   "outputs": [],
   "source": []
  },
  {
   "cell_type": "markdown",
   "id": "b454846c-2e6c-4ece-8e0a-a5c0b0aa014d",
   "metadata": {},
   "source": [
    "### STRING FUNCTIONS"
   ]
  },
  {
   "cell_type": "code",
   "execution_count": 56,
   "id": "0e56f064-da33-4da7-80cc-2e77a6652d85",
   "metadata": {},
   "outputs": [
    {
     "data": {
      "text/plain": [
       "1"
      ]
     },
     "execution_count": 56,
     "metadata": {},
     "output_type": "execute_result"
    }
   ],
   "source": [
    "d[101].count(1000)"
   ]
  },
  {
   "cell_type": "code",
   "execution_count": 35,
   "id": "4f06302b-9bdc-4089-ac42-d7ae6f5fd48a",
   "metadata": {},
   "outputs": [
    {
     "data": {
      "text/plain": [
       "'India'"
      ]
     },
     "execution_count": 35,
     "metadata": {},
     "output_type": "execute_result"
    }
   ],
   "source": [
    "a=\"India\"\n",
    "a"
   ]
  },
  {
   "cell_type": "code",
   "execution_count": 38,
   "id": "ccefff23-c2e3-4689-89f6-7c921ad77251",
   "metadata": {},
   "outputs": [
    {
     "data": {
      "text/plain": [
       "'India'"
      ]
     },
     "execution_count": 38,
     "metadata": {},
     "output_type": "execute_result"
    }
   ],
   "source": [
    "a.upper()\n",
    "a"
   ]
  },
  {
   "cell_type": "code",
   "execution_count": null,
   "id": "8dabc3ca-7460-4f67-864e-df2dd1a6f51b",
   "metadata": {},
   "outputs": [],
   "source": []
  }
 ],
 "metadata": {
  "kernelspec": {
   "display_name": "Python [conda env:base] *",
   "language": "python",
   "name": "conda-base-py"
  },
  "language_info": {
   "codemirror_mode": {
    "name": "ipython",
    "version": 3
   },
   "file_extension": ".py",
   "mimetype": "text/x-python",
   "name": "python",
   "nbconvert_exporter": "python",
   "pygments_lexer": "ipython3",
   "version": "3.12.7"
  }
 },
 "nbformat": 4,
 "nbformat_minor": 5
}
