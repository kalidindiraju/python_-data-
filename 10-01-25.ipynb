{
 "cells": [
  {
   "cell_type": "markdown",
   "id": "68dc3df1-5f15-473e-b3fe-d4643cb93b87",
   "metadata": {},
   "source": [
    "### LOOPS\n",
    "##### FOR\n",
    "##### WHILE"
   ]
  },
  {
   "cell_type": "code",
   "execution_count": 4,
   "id": "ae42a3d1-b61c-4dc0-affa-fed5613710cd",
   "metadata": {},
   "outputs": [
    {
     "name": "stdout",
     "output_type": "stream",
     "text": [
      "yes\n",
      "yes\n",
      "yes\n",
      "yes\n",
      "yes\n"
     ]
    }
   ],
   "source": [
    "x=5\n",
    "while x<10:\n",
    "    print('yes')\n",
    "    x=x+1"
   ]
  },
  {
   "cell_type": "code",
   "execution_count": 10,
   "id": "4c3276d4-6509-49de-9b76-e5be8fac8ed5",
   "metadata": {},
   "outputs": [
    {
     "data": {
      "text/plain": [
       "[40, 20, 80, 50, 30, 60, 90]"
      ]
     },
     "execution_count": 10,
     "metadata": {},
     "output_type": "execute_result"
    }
   ],
   "source": [
    "dollars=[40,20,80,50,30,60,90]\n",
    "dollars"
   ]
  },
  {
   "cell_type": "code",
   "execution_count": 6,
   "id": "808c129d-64d5-4193-9bd0-fe058e33ea85",
   "metadata": {},
   "outputs": [
    {
     "data": {
      "text/plain": [
       "[31, 45, 66, 33, 90, 78, 67, 87, 89, 93, 25, 59, 9, 81]"
      ]
     },
     "execution_count": 6,
     "metadata": {},
     "output_type": "execute_result"
    }
   ],
   "source": [
    "num=[31,45,66,33,90,78,67,87,89,93,25,59,9,81]\n",
    "num\n",
    "    "
   ]
  },
  {
   "cell_type": "code",
   "execution_count": 8,
   "id": "5a9a83c7-3655-48d8-909e-717df9f44d43",
   "metadata": {},
   "outputs": [
    {
     "data": {
      "text/plain": [
       "[31, 45, 66, 33, 90, 78, 67, 87, 89, 93, 25, 59, 9, 81]"
      ]
     },
     "execution_count": 8,
     "metadata": {},
     "output_type": "execute_result"
    }
   ],
   "source": [
    "num"
   ]
  },
  {
   "cell_type": "code",
   "execution_count": 12,
   "id": "76211017-f0d1-4b3a-93ed-2792c8712357",
   "metadata": {},
   "outputs": [],
   "source": [
    "a=[]\n",
    "b=[]\n",
    "for i in num:\n",
    "    if i%2==0:\n",
    "        a.append(i)\n",
    "    else:\n",
    "        b.append(i)"
   ]
  },
  {
   "cell_type": "code",
   "execution_count": 14,
   "id": "7e163d3e-5c6b-462c-a09d-18e40de993e5",
   "metadata": {},
   "outputs": [
    {
     "data": {
      "text/plain": [
       "[66, 90, 78]"
      ]
     },
     "execution_count": 14,
     "metadata": {},
     "output_type": "execute_result"
    }
   ],
   "source": [
    "a\n"
   ]
  },
  {
   "cell_type": "code",
   "execution_count": 16,
   "id": "ef16cf1a-2b84-448d-8457-af1b37aef780",
   "metadata": {},
   "outputs": [
    {
     "data": {
      "text/plain": [
       "[31, 45, 33, 67, 87, 89, 93, 25, 59, 9, 81]"
      ]
     },
     "execution_count": 16,
     "metadata": {},
     "output_type": "execute_result"
    }
   ],
   "source": [
    "b"
   ]
  },
  {
   "cell_type": "code",
   "execution_count": 18,
   "id": "5113f11f-89c7-4233-9b55-d9632b83d2f2",
   "metadata": {},
   "outputs": [
    {
     "data": {
      "text/plain": [
       "[31, 45, 66, 33, 90, 78, 67, 87, 89, 93, 25, 59, 9, 81]"
      ]
     },
     "execution_count": 18,
     "metadata": {},
     "output_type": "execute_result"
    }
   ],
   "source": [
    "num"
   ]
  },
  {
   "cell_type": "code",
   "execution_count": 47,
   "id": "f2232393-21ca-4894-8db4-da3a006dd623",
   "metadata": {},
   "outputs": [
    {
     "data": {
      "text/plain": [
       "[39, 45, 66, 93, 90, 78, 67, 87, 89, 93, 25, 59, 49, 91]"
      ]
     },
     "execution_count": 47,
     "metadata": {},
     "output_type": "execute_result"
    }
   ],
   "source": [
    "num=[39,45,66,93,90,78,67,87,89,93,25,59,49,91]\n",
    "num"
   ]
  },
  {
   "cell_type": "code",
   "execution_count": 43,
   "id": "51beddfa-a94c-479d-a550-3b8a6de28058",
   "metadata": {},
   "outputs": [],
   "source": [
    "h=[]\n",
    "for i in num:\n",
    "    a=str(i)\n",
    "    b=a.replace('9','1')\n",
    "    c=int(b)\n",
    "    h.append(c)\n"
   ]
  },
  {
   "cell_type": "code",
   "execution_count": 45,
   "id": "4a646df7-be51-427f-be15-6f3b503329c0",
   "metadata": {},
   "outputs": [
    {
     "data": {
      "text/plain": [
       "[1]"
      ]
     },
     "execution_count": 45,
     "metadata": {},
     "output_type": "execute_result"
    }
   ],
   "source": [
    "h"
   ]
  },
  {
   "cell_type": "code",
   "execution_count": 49,
   "id": "950260bc-a139-42c0-9298-f58226db5025",
   "metadata": {},
   "outputs": [
    {
     "data": {
      "text/plain": [
       "[39, 45, 66, 93, 90, 78, 67, 87, 89, 93, 25, 59, 49, 91]"
      ]
     },
     "execution_count": 49,
     "metadata": {},
     "output_type": "execute_result"
    }
   ],
   "source": [
    "num"
   ]
  },
  {
   "cell_type": "code",
   "execution_count": 51,
   "id": "25687eb5-55d8-4b48-9d5d-592abf437ded",
   "metadata": {},
   "outputs": [],
   "source": [
    "h=[]\n",
    "for i in num:\n",
    "    a=str(i)\n",
    "    b=a.replace('9','1')\n",
    "    c=int(b)\n",
    "    h.append(c)"
   ]
  },
  {
   "cell_type": "code",
   "execution_count": 53,
   "id": "32cf907f-f671-4a41-8225-f1806bddce91",
   "metadata": {},
   "outputs": [
    {
     "data": {
      "text/plain": [
       "[31, 45, 66, 13, 10, 78, 67, 87, 81, 13, 25, 51, 41, 11]"
      ]
     },
     "execution_count": 53,
     "metadata": {},
     "output_type": "execute_result"
    }
   ],
   "source": [
    "h"
   ]
  },
  {
   "cell_type": "code",
   "execution_count": null,
   "id": "52592399-71e9-49fe-8c93-49f482df549c",
   "metadata": {},
   "outputs": [],
   "source": []
  }
 ],
 "metadata": {
  "kernelspec": {
   "display_name": "Python [conda env:base] *",
   "language": "python",
   "name": "conda-base-py"
  },
  "language_info": {
   "codemirror_mode": {
    "name": "ipython",
    "version": 3
   },
   "file_extension": ".py",
   "mimetype": "text/x-python",
   "name": "python",
   "nbconvert_exporter": "python",
   "pygments_lexer": "ipython3",
   "version": "3.12.7"
  }
 },
 "nbformat": 4,
 "nbformat_minor": 5
}
