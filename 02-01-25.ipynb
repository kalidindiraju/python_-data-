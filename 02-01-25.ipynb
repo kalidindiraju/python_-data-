{
 "cells": [
  {
   "cell_type": "code",
   "execution_count": 6,
   "id": "19156149-e117-4216-a4e5-27da4796c199",
   "metadata": {},
   "outputs": [
    {
     "data": {
      "text/plain": [
       "55"
      ]
     },
     "execution_count": 6,
     "metadata": {},
     "output_type": "execute_result"
    }
   ],
   "source": [
    "a=1\n",
    "b=2\n",
    "c=3\n",
    "d=4\n",
    "e=5\n",
    "f=6\n",
    "g=7\n",
    "h=8\n",
    "i=9\n",
    "j=10\n",
    "a+b+c+d+e+f+g+h+i+j"
   ]
  },
  {
   "cell_type": "code",
   "execution_count": 3,
   "id": "b0ce3b08-407f-40f8-9528-2868c422feef",
   "metadata": {},
   "outputs": [
    {
     "data": {
      "text/plain": [
       "'I AM K.LAKSHMI NARASIMHA RAJU FROM MALLA REDDY UNIVERSITY'"
      ]
     },
     "execution_count": 3,
     "metadata": {},
     "output_type": "execute_result"
    }
   ],
   "source": [
    "a='I '\n",
    "b='AM '\n",
    "c='K.'\n",
    "d='LAKSHMI '\n",
    "e='NARASIMHA '\n",
    "f='RAJU '\n",
    "g='FROM '\n",
    "h='MALLA '\n",
    "i='REDDY '\n",
    "j=\"UNIVERSITY\"\n",
    "a+b+c+d+e+f+g+h+i+j"
   ]
  },
  {
   "cell_type": "code",
   "execution_count": null,
   "id": "a28cdd99-5df6-4b96-93dd-def1c4c628e0",
   "metadata": {},
   "outputs": [],
   "source": []
  }
 ],
 "metadata": {
  "kernelspec": {
   "display_name": "Python [conda env:base] *",
   "language": "python",
   "name": "conda-base-py"
  },
  "language_info": {
   "codemirror_mode": {
    "name": "ipython",
    "version": 3
   },
   "file_extension": ".py",
   "mimetype": "text/x-python",
   "name": "python",
   "nbconvert_exporter": "python",
   "pygments_lexer": "ipython3",
   "version": "3.12.7"
  }
 },
 "nbformat": 4,
 "nbformat_minor": 5
}
