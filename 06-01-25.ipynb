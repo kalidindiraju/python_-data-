{
 "cells": [
  {
   "cell_type": "markdown",
   "id": "ed70b4ba-8e4c-4374-acfa-d647289881e9",
   "metadata": {},
   "source": [
    "### HOMOGENEOUS LIST\n"
   ]
  },
  {
   "cell_type": "code",
   "execution_count": 3,
   "id": "90416085-dd78-4171-bbd9-a56832b76144",
   "metadata": {},
   "outputs": [
    {
     "data": {
      "text/plain": [
       "[1, 2, 3, 4]"
      ]
     },
     "execution_count": 3,
     "metadata": {},
     "output_type": "execute_result"
    }
   ],
   "source": [
    "a=[1,2,3,4]\n",
    "a"
   ]
  },
  {
   "cell_type": "code",
   "execution_count": 5,
   "id": "446273b4-797d-4fb3-8462-c282973d5f01",
   "metadata": {},
   "outputs": [
    {
     "data": {
      "text/plain": [
       "list"
      ]
     },
     "execution_count": 5,
     "metadata": {},
     "output_type": "execute_result"
    }
   ],
   "source": [
    "type(a)"
   ]
  },
  {
   "cell_type": "markdown",
   "id": "9e608cde-1319-49dd-a53f-fc62f41657ac",
   "metadata": {},
   "source": [
    "### HETEROGENEOUS LIST"
   ]
  },
  {
   "cell_type": "code",
   "execution_count": 12,
   "id": "1f5f8a34-b1f2-4fc7-a839-4feab3a98d46",
   "metadata": {},
   "outputs": [
    {
     "data": {
      "text/plain": [
       "['RAJU', False, 2, 8, 10.1]"
      ]
     },
     "execution_count": 12,
     "metadata": {},
     "output_type": "execute_result"
    }
   ],
   "source": [
    "b=['RAJU',False,2,8,10.10]\n",
    "b"
   ]
  },
  {
   "cell_type": "code",
   "execution_count": 14,
   "id": "989a58b2-cfae-4c4f-b152-5e44af77bc3d",
   "metadata": {},
   "outputs": [
    {
     "data": {
      "text/plain": [
       "list"
      ]
     },
     "execution_count": 14,
     "metadata": {},
     "output_type": "execute_result"
    }
   ],
   "source": [
    "type(b)"
   ]
  },
  {
   "cell_type": "code",
   "execution_count": 20,
   "id": "d8c8a5f5-394e-40fb-bdf6-f6704ab1059c",
   "metadata": {},
   "outputs": [
    {
     "data": {
      "text/plain": [
       "'RAJU'"
      ]
     },
     "execution_count": 20,
     "metadata": {},
     "output_type": "execute_result"
    }
   ],
   "source": [
    "a[2]\n",
    "b[0]"
   ]
  },
  {
   "cell_type": "code",
   "execution_count": 22,
   "id": "6c94c613-d2e9-4371-8f2f-d22f4592f1e5",
   "metadata": {},
   "outputs": [
    {
     "data": {
      "text/plain": [
       "['RAJU', False]"
      ]
     },
     "execution_count": 22,
     "metadata": {},
     "output_type": "execute_result"
    }
   ],
   "source": [
    "b[0:2]"
   ]
  },
  {
   "cell_type": "code",
   "execution_count": 24,
   "id": "2c06c6eb-01e4-47a3-b780-aa27fca8d1b9",
   "metadata": {},
   "outputs": [
    {
     "data": {
      "text/plain": [
       "[2, 3]"
      ]
     },
     "execution_count": 24,
     "metadata": {},
     "output_type": "execute_result"
    }
   ],
   "source": [
    "a[1:3]"
   ]
  },
  {
   "cell_type": "code",
   "execution_count": 30,
   "id": "0d5047de-c04b-4f91-9a97-bf89b987061e",
   "metadata": {},
   "outputs": [
    {
     "data": {
      "text/plain": [
       "['RAJU', 8]"
      ]
     },
     "execution_count": 30,
     "metadata": {},
     "output_type": "execute_result"
    }
   ],
   "source": [
    "b[0::3]"
   ]
  },
  {
   "cell_type": "markdown",
   "id": "9809f736-ff67-4bce-a715-41423b857b9f",
   "metadata": {},
   "source": [
    "#### POSITIVE INDEXING\n",
    "#### NEGATIVE INDEXING"
   ]
  },
  {
   "cell_type": "code",
   "execution_count": 38,
   "id": "a8daa071-fbba-4a9e-b56e-59f462db672a",
   "metadata": {},
   "outputs": [
    {
     "data": {
      "text/plain": [
       "15"
      ]
     },
     "execution_count": 38,
     "metadata": {},
     "output_type": "execute_result"
    }
   ],
   "source": [
    "a=[10,11,12,13,14,15,16]\n",
    "a[5]"
   ]
  },
  {
   "cell_type": "code",
   "execution_count": 40,
   "id": "f5265159-cf38-4ca3-b922-e3dd051be502",
   "metadata": {},
   "outputs": [
    {
     "data": {
      "text/plain": [
       "15"
      ]
     },
     "execution_count": 40,
     "metadata": {},
     "output_type": "execute_result"
    }
   ],
   "source": [
    "a[-2]"
   ]
  },
  {
   "cell_type": "code",
   "execution_count": 42,
   "id": "67e1a110-e90d-428e-b1af-ed8a9c6623d6",
   "metadata": {},
   "outputs": [
    {
     "data": {
      "text/plain": [
       "[10, 11, 12, 13, 14]"
      ]
     },
     "execution_count": 42,
     "metadata": {},
     "output_type": "execute_result"
    }
   ],
   "source": [
    "a[0:5]"
   ]
  },
  {
   "cell_type": "code",
   "execution_count": 60,
   "id": "4c18cf8a-a078-4abc-8133-75cd8246780b",
   "metadata": {},
   "outputs": [
    {
     "data": {
      "text/plain": [
       "[10, 12, 14, 16]"
      ]
     },
     "execution_count": 60,
     "metadata": {},
     "output_type": "execute_result"
    }
   ],
   "source": [
    "a[0::2]"
   ]
  },
  {
   "cell_type": "code",
   "execution_count": 56,
   "id": "68b31c30-2b4d-45b1-a981-7794051ee019",
   "metadata": {},
   "outputs": [
    {
     "data": {
      "text/plain": [
       "[16, 15, 14, 13]"
      ]
     },
     "execution_count": 56,
     "metadata": {},
     "output_type": "execute_result"
    }
   ],
   "source": [
    "a[-1:-5:-1]"
   ]
  },
  {
   "cell_type": "code",
   "execution_count": 58,
   "id": "1f5105d5-490d-4775-ba46-e1e57477744d",
   "metadata": {},
   "outputs": [
    {
     "data": {
      "text/plain": [
       "[16, 10]"
      ]
     },
     "execution_count": 58,
     "metadata": {},
     "output_type": "execute_result"
    }
   ],
   "source": [
    "a[-1::-6]"
   ]
  },
  {
   "cell_type": "code",
   "execution_count": 64,
   "id": "add8daee-4fd2-40db-b7cb-a140038d31e2",
   "metadata": {},
   "outputs": [
    {
     "data": {
      "text/plain": [
       "[]"
      ]
     },
     "execution_count": 64,
     "metadata": {},
     "output_type": "execute_result"
    }
   ],
   "source": [
    "a[-2:5:1]"
   ]
  },
  {
   "cell_type": "code",
   "execution_count": 68,
   "id": "2b0c1958-7851-4395-b862-8b4499fc45da",
   "metadata": {},
   "outputs": [
    {
     "data": {
      "text/plain": [
       "[15, 13]"
      ]
     },
     "execution_count": 68,
     "metadata": {},
     "output_type": "execute_result"
    }
   ],
   "source": [
    "a[-2:-6:-2]"
   ]
  },
  {
   "cell_type": "markdown",
   "id": "6b28b713-e072-4086-a7c3-976c767c5526",
   "metadata": {},
   "source": [
    "### LIST METHODS\n",
    "#### APPEND\n",
    "#### INSERT\n",
    "#### EXTEND\n",
    "#### POP\n",
    "#### REMOVE\n",
    "#### CLEAR\n",
    "#### COUNT"
   ]
  },
  {
   "cell_type": "code",
   "execution_count": 71,
   "id": "f3fd21c6-6c0a-4572-9d7e-a9f1b55073a1",
   "metadata": {},
   "outputs": [],
   "source": [
    "a=[1,'RAJU',2,3,4,False,True,8,10]"
   ]
  },
  {
   "cell_type": "code",
   "execution_count": 83,
   "id": "918b2d17-5c6e-4a29-af43-240a1e55441d",
   "metadata": {},
   "outputs": [
    {
     "data": {
      "text/plain": [
       "[1, 'RAJU', 2, 3, 4, False, True, 8, 10, 100, 100, 100, 100]"
      ]
     },
     "execution_count": 83,
     "metadata": {},
     "output_type": "execute_result"
    }
   ],
   "source": [
    "a.append(100)\n",
    "a"
   ]
  },
  {
   "cell_type": "code",
   "execution_count": 114,
   "id": "22f32e38-8498-44bc-8a27-309b278cba9b",
   "metadata": {},
   "outputs": [
    {
     "data": {
      "text/plain": [
       "[1, 'RAJU', 2, 'HII', 3, 4, False, True, 8, 10]"
      ]
     },
     "execution_count": 114,
     "metadata": {},
     "output_type": "execute_result"
    }
   ],
   "source": [
    "\n",
    "a.remove('HII')\n",
    "a"
   ]
  },
  {
   "cell_type": "code",
   "execution_count": 118,
   "id": "a385212b-b1f0-4730-a783-ea02cb7421b9",
   "metadata": {},
   "outputs": [
    {
     "data": {
      "text/plain": [
       "'HII'"
      ]
     },
     "execution_count": 118,
     "metadata": {},
     "output_type": "execute_result"
    }
   ],
   "source": [
    "a.pop(3)"
   ]
  },
  {
   "cell_type": "code",
   "execution_count": 127,
   "id": "31072a58-e258-4f6d-bbf6-b96473fbcc08",
   "metadata": {},
   "outputs": [
    {
     "data": {
      "text/plain": [
       "[1, 'RAJU', 2, 3, 4, False, True, 8, 10, 20, 30, 40, 20, 30, 40, 20, 30, 40]"
      ]
     },
     "execution_count": 127,
     "metadata": {},
     "output_type": "execute_result"
    }
   ],
   "source": [
    "a.extend([20,30,40])\n",
    "a"
   ]
  },
  {
   "cell_type": "code",
   "execution_count": 143,
   "id": "3f333201-da1b-45c8-a127-6ff9df25ebed",
   "metadata": {},
   "outputs": [
    {
     "data": {
      "text/plain": [
       "[1, 'RAJU', 2, 3, 4, False, True, 8, 10, 20, 30, 40]"
      ]
     },
     "execution_count": 143,
     "metadata": {},
     "output_type": "execute_result"
    }
   ],
   "source": [
    "a.remove(20)\n",
    "a"
   ]
  },
  {
   "cell_type": "code",
   "execution_count": null,
   "id": "1286f8da-8b43-410e-81ab-912e8a9fbd43",
   "metadata": {},
   "outputs": [],
   "source": []
  },
  {
   "cell_type": "code",
   "execution_count": null,
   "id": "9d75b842-9372-4302-b5b9-ac9f9957c86b",
   "metadata": {},
   "outputs": [],
   "source": []
  }
 ],
 "metadata": {
  "kernelspec": {
   "display_name": "Python [conda env:base] *",
   "language": "python",
   "name": "conda-base-py"
  },
  "language_info": {
   "codemirror_mode": {
    "name": "ipython",
    "version": 3
   },
   "file_extension": ".py",
   "mimetype": "text/x-python",
   "name": "python",
   "nbconvert_exporter": "python",
   "pygments_lexer": "ipython3",
   "version": "3.12.7"
  }
 },
 "nbformat": 4,
 "nbformat_minor": 5
}
