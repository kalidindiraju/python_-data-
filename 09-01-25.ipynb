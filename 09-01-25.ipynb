{
 "cells": [
  {
   "cell_type": "code",
   "execution_count": null,
   "id": "32b936de-4403-47cd-b26b-e751289424a5",
   "metadata": {},
   "outputs": [],
   "source": [
    "if conditional:\n",
    "    task1 block of code\n",
    "elif conditional2:\n",
    "    task2 block of code\n",
    "elif condition3:\n",
    "    task3 block of code\n",
    "    .\n",
    "    .\n",
    "    .\n",
    "elif condition n:\n",
    "   task n\n",
    "else:\n",
    "    task4 block of code\n",
    " "
   ]
  },
  {
   "cell_type": "code",
   "execution_count": 1,
   "id": "d9d8b430-9874-4cc9-8376-aa539430fb79",
   "metadata": {},
   "outputs": [
    {
     "name": "stdout",
     "output_type": "stream",
     "text": [
      "Odd\n"
     ]
    }
   ],
   "source": [
    "x=9\n",
    "if x%2==0:\n",
    "    print(\"Even\")\n",
    "else:\n",
    "    print(\"Odd\")"
   ]
  },
  {
   "cell_type": "code",
   "execution_count": 3,
   "id": "d7e3177f-93ba-434b-8f4c-60abc5201028",
   "metadata": {},
   "outputs": [
    {
     "name": "stdout",
     "output_type": "stream",
     "text": [
      "neg\n"
     ]
    }
   ],
   "source": [
    "x=-5.8\n",
    "if x>0:\n",
    "    print('pos')\n",
    "elif x<0:\n",
    "    print('neg')\n",
    "else:\n",
    "    print('zero')\n",
    "    "
   ]
  },
  {
   "cell_type": "code",
   "execution_count": 29,
   "id": "0177f780-8a88-44ae-8305-2414b6dfdc4a",
   "metadata": {},
   "outputs": [
    {
     "name": "stdout",
     "output_type": "stream",
     "text": [
      "pos\n",
      "P\n"
     ]
    }
   ],
   "source": [
    "x=12\n",
    "if x>0:\n",
    "    print('pos')\n",
    "    if x>20:\n",
    "        print('M')\n",
    "    elif x>10:\n",
    "        print('P')\n",
    "    elif x<10:\n",
    "        print('K')\n",
    "    else:\n",
    "        print('T')\n",
    "elif x<0:\n",
    "    print('neg')\n",
    "    if x<-20:\n",
    "        print('Q')\n",
    "    elif x>-10:\n",
    "        print('c')\n",
    "    elif x>-30:\n",
    "        print('Z')\n",
    "else:\n",
    "    print('zero')"
   ]
  },
  {
   "cell_type": "code",
   "execution_count": 33,
   "id": "89c1b984-f268-4a52-a5e1-872649ce37a2",
   "metadata": {},
   "outputs": [
    {
     "name": "stdout",
     "output_type": "stream",
     "text": [
      "yes\n"
     ]
    }
   ],
   "source": [
    "x='tiger'\n",
    "if x[0]=='T' or x[0]=='t':\n",
    " print(\"yes\")\n",
    "else:\n",
    "    print(\"No\")"
   ]
  },
  {
   "cell_type": "code",
   "execution_count": 35,
   "id": "c9bce1ad-67a5-4497-be27-bb93a9025c6a",
   "metadata": {},
   "outputs": [
    {
     "name": "stdout",
     "output_type": "stream",
     "text": [
      "yes\n"
     ]
    }
   ],
   "source": [
    "y='raju'\n",
    "if y[1]=='a':\n",
    "    print('yes')\n",
    "else:\n",
    "    print('no')"
   ]
  },
  {
   "cell_type": "code",
   "execution_count": 45,
   "id": "577766e2-0918-44e2-9c5d-6da4f2b798d0",
   "metadata": {},
   "outputs": [
    {
     "name": "stdout",
     "output_type": "stream",
     "text": [
      "yes\n"
     ]
    }
   ],
   "source": [
    "z='manglore'\n",
    "if z[0]=='t' or z[0]=='m':\n",
    "    print('yes')\n",
    "else:\n",
    "    print('no')"
   ]
  },
  {
   "cell_type": "code",
   "execution_count": 49,
   "id": "7f0db5a0-dd70-418a-8ae9-c3dba395f85b",
   "metadata": {},
   "outputs": [
    {
     "name": "stdout",
     "output_type": "stream",
     "text": [
      "yes\n"
     ]
    }
   ],
   "source": [
    "x='tiger'\n",
    "if x[0].lower() in ['s','t','h']:\n",
    "    print('yes')\n",
    "else:\n",
    "    print('no')"
   ]
  },
  {
   "cell_type": "code",
   "execution_count": null,
   "id": "a66af324-541b-4822-9820-7a83a7014102",
   "metadata": {},
   "outputs": [],
   "source": []
  }
 ],
 "metadata": {
  "kernelspec": {
   "display_name": "Python [conda env:base] *",
   "language": "python",
   "name": "conda-base-py"
  },
  "language_info": {
   "codemirror_mode": {
    "name": "ipython",
    "version": 3
   },
   "file_extension": ".py",
   "mimetype": "text/x-python",
   "name": "python",
   "nbconvert_exporter": "python",
   "pygments_lexer": "ipython3",
   "version": "3.12.7"
  }
 },
 "nbformat": 4,
 "nbformat_minor": 5
}
